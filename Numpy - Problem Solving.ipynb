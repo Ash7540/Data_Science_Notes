{
 "cells": [
  {
   "cell_type": "code",
   "execution_count": 7,
   "id": "a2093980",
   "metadata": {},
   "outputs": [],
   "source": [
    "import numpy as np"
   ]
  },
  {
   "cell_type": "code",
   "execution_count": 8,
   "id": "f7b90f65",
   "metadata": {},
   "outputs": [
    {
     "name": "stdout",
     "output_type": "stream",
     "text": [
      "[[2 4 6]\n",
      " [5 7 9]]\n"
     ]
    }
   ],
   "source": [
    "arr_1 = np.array([[1,2,3],[4,5,6]])\n",
    "arr_2 = np.array([1,2,3])\n",
    "print(arr_1 + arr_2)"
   ]
  },
  {
   "cell_type": "code",
   "execution_count": 9,
   "id": "0a284746",
   "metadata": {},
   "outputs": [
    {
     "name": "stdout",
     "output_type": "stream",
     "text": [
      "[[2 3 4]\n",
      " [6 7 8]]\n"
     ]
    }
   ],
   "source": [
    "arr_1 = np.array([[1,2,3],[4,5,6]])\n",
    "arr_2 = np.array([[1],[2]])\n",
    "print(arr_1 + arr_2)"
   ]
  },
  {
   "cell_type": "code",
   "execution_count": 10,
   "id": "b1e7a08f",
   "metadata": {},
   "outputs": [
    {
     "name": "stdout",
     "output_type": "stream",
     "text": [
      "[[2 3 4]\n",
      " [5 6 7]]\n"
     ]
    }
   ],
   "source": [
    "arr_1 = np.array([[1,2,3],[4,5,6]])\n",
    "arr_2 = np.array([1])\n",
    "print(arr_1 + arr_2)"
   ]
  },
  {
   "cell_type": "code",
   "execution_count": 11,
   "id": "18429fbe",
   "metadata": {},
   "outputs": [
    {
     "ename": "ValueError",
     "evalue": "operands could not be broadcast together with shapes (2,3) (4,) ",
     "output_type": "error",
     "traceback": [
      "\u001b[1;31m---------------------------------------------------------------------------\u001b[0m",
      "\u001b[1;31mValueError\u001b[0m                                Traceback (most recent call last)",
      "Input \u001b[1;32mIn [11]\u001b[0m, in \u001b[0;36m<cell line: 3>\u001b[1;34m()\u001b[0m\n\u001b[0;32m      1\u001b[0m arr_1 \u001b[38;5;241m=\u001b[39m np\u001b[38;5;241m.\u001b[39marray([[\u001b[38;5;241m1\u001b[39m,\u001b[38;5;241m2\u001b[39m,\u001b[38;5;241m3\u001b[39m],[\u001b[38;5;241m4\u001b[39m,\u001b[38;5;241m5\u001b[39m,\u001b[38;5;241m6\u001b[39m]])\n\u001b[0;32m      2\u001b[0m arr_2 \u001b[38;5;241m=\u001b[39m np\u001b[38;5;241m.\u001b[39marray([\u001b[38;5;241m1\u001b[39m,\u001b[38;5;241m2\u001b[39m,\u001b[38;5;241m3\u001b[39m,\u001b[38;5;241m4\u001b[39m])\n\u001b[1;32m----> 3\u001b[0m \u001b[38;5;28mprint\u001b[39m(\u001b[43marr_1\u001b[49m\u001b[43m \u001b[49m\u001b[38;5;241;43m+\u001b[39;49m\u001b[43m \u001b[49m\u001b[43marr_2\u001b[49m)\n",
      "\u001b[1;31mValueError\u001b[0m: operands could not be broadcast together with shapes (2,3) (4,) "
     ]
    }
   ],
   "source": [
    "arr_1 = np.array([[1,2,3],[4,5,6]])\n",
    "arr_2 = np.array([1,2,3,4])\n",
    "print(arr_1 + arr_2)"
   ]
  },
  {
   "cell_type": "code",
   "execution_count": 12,
   "id": "ec433fa8",
   "metadata": {},
   "outputs": [
    {
     "ename": "ValueError",
     "evalue": "operands could not be broadcast together with shapes (5,) (4,) ",
     "output_type": "error",
     "traceback": [
      "\u001b[1;31m---------------------------------------------------------------------------\u001b[0m",
      "\u001b[1;31mValueError\u001b[0m                                Traceback (most recent call last)",
      "Input \u001b[1;32mIn [12]\u001b[0m, in \u001b[0;36m<cell line: 3>\u001b[1;34m()\u001b[0m\n\u001b[0;32m      1\u001b[0m arr_1 \u001b[38;5;241m=\u001b[39m np\u001b[38;5;241m.\u001b[39marray([\u001b[38;5;241m1\u001b[39m,\u001b[38;5;241m2\u001b[39m,\u001b[38;5;241m3\u001b[39m,\u001b[38;5;241m4\u001b[39m,\u001b[38;5;241m5\u001b[39m])\n\u001b[0;32m      2\u001b[0m arr_2 \u001b[38;5;241m=\u001b[39m np\u001b[38;5;241m.\u001b[39marray([\u001b[38;5;241m1\u001b[39m,\u001b[38;5;241m2\u001b[39m,\u001b[38;5;241m3\u001b[39m,\u001b[38;5;241m4\u001b[39m])\n\u001b[1;32m----> 3\u001b[0m \u001b[38;5;28mprint\u001b[39m(\u001b[43marr_1\u001b[49m\u001b[43m \u001b[49m\u001b[38;5;241;43m+\u001b[39;49m\u001b[43m \u001b[49m\u001b[43marr_2\u001b[49m)\n",
      "\u001b[1;31mValueError\u001b[0m: operands could not be broadcast together with shapes (5,) (4,) "
     ]
    }
   ],
   "source": [
    "arr_1 = np.array([1,2,3,4,5])\n",
    "arr_2 = np.array([1,2,3,4])\n",
    "print(arr_1 + arr_2)"
   ]
  },
  {
   "cell_type": "code",
   "execution_count": 13,
   "id": "a40f4d22",
   "metadata": {},
   "outputs": [
    {
     "name": "stdout",
     "output_type": "stream",
     "text": [
      "[[2 3 4 5]\n",
      " [3 4 5 6]\n",
      " [4 5 6 7]\n",
      " [5 6 7 8]\n",
      " [6 7 8 9]]\n"
     ]
    },
    {
     "data": {
      "text/plain": [
       "array([[ 1,  2,  3,  4],\n",
       "       [ 2,  4,  6,  8],\n",
       "       [ 3,  6,  9, 12],\n",
       "       [ 4,  8, 12, 16],\n",
       "       [ 5, 10, 15, 20]])"
      ]
     },
     "execution_count": 13,
     "metadata": {},
     "output_type": "execute_result"
    }
   ],
   "source": [
    "arr_1 = np.array([[1],[2],[3],[4],[5]])\n",
    "arr_2 = np.array([1,2,3,4])\n",
    "print(arr_1 + arr_2)\n",
    "arr_1.dot(arr_2.reshape(1,-1))\n",
    "np.matmul(arr_1, arr_2.reshape(1,-1))"
   ]
  },
  {
   "cell_type": "markdown",
   "id": "4240b1ab",
   "metadata": {},
   "source": [
    "# Problem Solving\n"
   ]
  },
  {
   "cell_type": "markdown",
   "id": "7107a733",
   "metadata": {},
   "source": [
    "a. Find the distance between each 2-Dimensional data point from the centroid (i.e. mean) of the given dataset and append the newly calculated distances as new column with the given dataset\n",
    "\n",
    "b. Given any data point, generate 3 closest neighbors from it"
   ]
  },
  {
   "cell_type": "code",
   "execution_count": 14,
   "id": "216209dd",
   "metadata": {},
   "outputs": [],
   "source": [
    "# answer of a"
   ]
  },
  {
   "cell_type": "code",
   "execution_count": 15,
   "id": "13e07646",
   "metadata": {},
   "outputs": [
    {
     "name": "stdout",
     "output_type": "stream",
     "text": [
      "[[0.34882195 0.4590292 ]\n",
      " [0.21484893 0.77832295]\n",
      " [0.39685802 0.26565679]\n",
      " ...\n",
      " [0.98732814 0.82702239]\n",
      " [0.97651486 0.9809401 ]\n",
      " [0.83112431 0.69632815]]\n"
     ]
    }
   ],
   "source": [
    "# step 1:- generate random data with 1 million rows and columns\n",
    "df = np.random.rand(1000000,2)\n",
    "df.shape\n",
    "print(df)"
   ]
  },
  {
   "cell_type": "code",
   "execution_count": 16,
   "id": "cd0bc534",
   "metadata": {},
   "outputs": [
    {
     "data": {
      "text/plain": [
       "array([0.50030937, 0.5003979 ])"
      ]
     },
     "execution_count": 16,
     "metadata": {},
     "output_type": "execute_result"
    }
   ],
   "source": [
    "# step 2:- compute the centroid\n",
    "centroid = np.mean(df, axis=0)\n",
    "centroid.shape\n",
    "centroid"
   ]
  },
  {
   "cell_type": "code",
   "execution_count": 17,
   "id": "1c3bfc9a",
   "metadata": {},
   "outputs": [
    {
     "name": "stdout",
     "output_type": "stream",
     "text": [
      "[0.15703441 0.39840933 0.25652596 ... 0.58640501 0.67652973 0.38448301]\n"
     ]
    }
   ],
   "source": [
    "# step 3:- compute the distance of each datapoint from centroid\n",
    "\n",
    "dist = np.sqrt(np.sum(np.square(df - centroid), axis=1))\n",
    "# Doing squareroot and\n",
    "# printing Euclidean distance\n",
    "print(dist)"
   ]
  },
  {
   "cell_type": "code",
   "execution_count": 18,
   "id": "a861cb66",
   "metadata": {},
   "outputs": [
    {
     "name": "stdout",
     "output_type": "stream",
     "text": [
      "[[0.34882195 0.4590292  0.15703441]\n",
      " [0.21484893 0.77832295 0.39840933]\n",
      " [0.39685802 0.26565679 0.25652596]\n",
      " ...\n",
      " [0.98732814 0.82702239 0.58640501]\n",
      " [0.97651486 0.9809401  0.67652973]\n",
      " [0.83112431 0.69632815 0.38448301]]\n"
     ]
    }
   ],
   "source": [
    "# appending the dist in 3rd column\n",
    "arr = np.column_stack((df, dist))\n",
    "print(arr)"
   ]
  },
  {
   "cell_type": "code",
   "execution_count": 19,
   "id": "df99d798",
   "metadata": {},
   "outputs": [
    {
     "name": "stdout",
     "output_type": "stream",
     "text": [
      "Three closest neighbors to centroid:\n",
      " [[0.49935955 0.48817816]\n",
      " [0.49200076 0.50625413]\n",
      " [0.48517702 0.47997176]]\n"
     ]
    }
   ],
   "source": [
    "# Given any data point, generate 3 closest neighbors from it\n",
    "# creating the random points lets say 1000*2\n",
    "df = np.random.rand(1000,2)\n",
    "# step 2:- compute the centroid\n",
    "centroid = np.mean(df, axis=0)\n",
    "# step 3:- compute the distance of each datapoint from centroid\n",
    "dist = np.sqrt(np.sum(np.square(df - centroid), axis=1))\n",
    "k = 3\n",
    "indices = np.argsort(dist)[:k]\n",
    "neighbors = df[indices]\n",
    "print(\"Three closest neighbors to centroid:\\n\", neighbors)"
   ]
  },
  {
   "cell_type": "code",
   "execution_count": null,
   "id": "1ea1c589",
   "metadata": {},
   "outputs": [],
   "source": []
  }
 ],
 "metadata": {
  "kernelspec": {
   "display_name": "Python 3 (ipykernel)",
   "language": "python",
   "name": "python3"
  },
  "language_info": {
   "codemirror_mode": {
    "name": "ipython",
    "version": 3
   },
   "file_extension": ".py",
   "mimetype": "text/x-python",
   "name": "python",
   "nbconvert_exporter": "python",
   "pygments_lexer": "ipython3",
   "version": "3.9.12"
  }
 },
 "nbformat": 4,
 "nbformat_minor": 5
}
